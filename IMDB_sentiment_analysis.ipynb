{
 "cells": [
  {
   "cell_type": "markdown",
   "metadata": {
    "colab_type": "text",
    "id": "rNPEtwaBHv9B"
   },
   "source": [
    "# Final project for Big Data Lecture\n",
    "#### Sentiment Analysis on IMDB Movie Reviews Dataset from Kaggle Competition\n",
    "#### Link to dataset: https://www.kaggle.com/iarunava/imdb-movie-reviews-dataset\n",
    "#### Author: Rafał Wójcik\n",
    "\n",
    "# Structure of the project:\n",
    "> ### 1. Description of the Dataset\n",
    "> ### 2. Dataset cleaning\n",
    "> ### 3. Transforming text data into sparse vector space\n",
    "> ### 4. Training Linear Regression and Decision Tree models\n",
    "> ### 5. Additional Features Calculation\n",
    "> ### 6. Retraining the models\n",
    "> ### 7. Evaluation of best model\n",
    "> ### 8. Summary"
   ]
  },
  {
   "cell_type": "code",
   "execution_count": null,
   "metadata": {
    "colab": {},
    "colab_type": "code",
    "id": "dE-DiRjzktmO"
   },
   "outputs": [],
   "source": [
    "import os\n",
    "import pandas as pd\n",
    "\n",
    "#code taken from https://www.kaggle.com/desiredewaele/sentiment-analysis-on-imdb-reviews\n",
    "path = os.getcwd() + \"/aclImdb/\"\n",
    "positiveFiles = [x for x in os.listdir(path+\"train/pos/\") if x.endswith(\".txt\")]\n",
    "negativeFiles = [x for x in os.listdir(path+\"train/neg/\") if x.endswith(\".txt\")]\n",
    "testFiles = [x for x in os.listdir(path+\"test/\") if x.endswith(\".txt\")]\n",
    "\n",
    "positiveReviews, negativeReviews = [], []\n",
    "for pfile in positiveFiles:\n",
    "    with open(path+\"train/pos/\"+pfile, encoding=\"latin1\") as f:\n",
    "        positiveReviews.append(f.read())\n",
    "for nfile in negativeFiles:\n",
    "    with open(path+\"train/neg/\"+nfile, encoding=\"latin1\") as f:\n",
    "        negativeReviews.append(f.read())\n",
    "        \n",
    "reviews = pd.concat([\n",
    "    pd.DataFrame({\"review\":positiveReviews, \"label\":1, \"file\":positiveFiles}),\n",
    "    pd.DataFrame({\"review\":negativeReviews, \"label\":0, \"file\":negativeFiles}),\n",
    "], ignore_index=True)\n",
    "\n",
    "\n",
    "reviews[['review', 'label']].to_csv('raw_dataset.csv', index=False)"
   ]
  },
  {
   "cell_type": "markdown",
   "metadata": {
    "colab_type": "text",
    "id": "gzR0U3dQJLgH"
   },
   "source": [
    "<b> nessecary imports"
   ]
  },
  {
   "cell_type": "code",
   "execution_count": null,
   "metadata": {
    "colab": {},
    "colab_type": "code",
    "id": "01-1eQGBdRkA"
   },
   "outputs": [],
   "source": [
    "import os\n",
    "import re\n",
    "from re import sub\n",
    "from time import time\n",
    "import pandas as pd\n",
    "import numpy as np\n",
    "from nltk.stem.snowball import SnowballStemmer\n",
    "from scipy.sparse import hstack\n",
    "from sklearn.feature_extraction.text import TfidfVectorizer, HashingVectorizer\n",
    "from sklearn.model_selection import train_test_split\n",
    "from sklearn.linear_model import LogisticRegression\n",
    "from sklearn.tree import DecisionTreeClassifier\n",
    "from sklearn.metrics import confusion_matrix, precision_score, recall_score, f1_score, auc, roc_curve\n",
    "import matplotlib.pyplot as plt"
   ]
  },
  {
   "cell_type": "markdown",
   "metadata": {
    "colab_type": "text",
    "id": "QKkMS-BYJP-B"
   },
   "source": [
    "### 1. Description of the Dataset\n",
    "Analyzed Dataset comprised of 25000 movie reviews from site https://www.imdb.com. Each review from the original Kaggle Dataset was stored in separate .txt file, so in order to read them after downloading, there was additional code used (read_data.ipynb, attached to the project). After reading it, it was saved as 'raw_dataset.csv' file, and analyzed further. All of the reviews were labeled as either positive, or negative, based on the amount of stars that the movie achieved - all reviews with rating higher than 5 were labeled as positive (label 1 in the dataset), and all reviews with rating lesser or equal to 5 were labeled as negative (label 0 in the dataset). \n",
    "\n",
    "Code cell below presents first 10 rows from the dataset, along with their labels."
   ]
  },
  {
   "cell_type": "code",
   "execution_count": null,
   "metadata": {
    "colab": {
     "base_uri": "https://localhost:8080/",
     "height": 335
    },
    "colab_type": "code",
    "id": "GBcaU8ulNVXu",
    "outputId": "79641dce-6ac3-4fe8-d261-ddb7f1dc8346"
   },
   "outputs": [
    {
     "data": {
      "text/html": [
       "<div>\n",
       "<style scoped>\n",
       "    .dataframe tbody tr th:only-of-type {\n",
       "        vertical-align: middle;\n",
       "    }\n",
       "\n",
       "    .dataframe tbody tr th {\n",
       "        vertical-align: top;\n",
       "    }\n",
       "\n",
       "    .dataframe thead th {\n",
       "        text-align: right;\n",
       "    }\n",
       "</style>\n",
       "<table border=\"1\" class=\"dataframe\">\n",
       "  <thead>\n",
       "    <tr style=\"text-align: right;\">\n",
       "      <th></th>\n",
       "      <th>review</th>\n",
       "      <th>label</th>\n",
       "    </tr>\n",
       "  </thead>\n",
       "  <tbody>\n",
       "    <tr>\n",
       "      <th>0</th>\n",
       "      <td>Composed, elegant Carol (marvelously played by...</td>\n",
       "      <td>1</td>\n",
       "    </tr>\n",
       "    <tr>\n",
       "      <th>1</th>\n",
       "      <td>How could I best express my feelings about thi...</td>\n",
       "      <td>0</td>\n",
       "    </tr>\n",
       "    <tr>\n",
       "      <th>2</th>\n",
       "      <td>I saw this movie twice. I can't believe Pintil...</td>\n",
       "      <td>0</td>\n",
       "    </tr>\n",
       "    <tr>\n",
       "      <th>3</th>\n",
       "      <td>I first saw this film when i was about 13. It ...</td>\n",
       "      <td>1</td>\n",
       "    </tr>\n",
       "    <tr>\n",
       "      <th>4</th>\n",
       "      <td>This review may contain some SPOILERS.&lt;br /&gt;&lt;b...</td>\n",
       "      <td>0</td>\n",
       "    </tr>\n",
       "    <tr>\n",
       "      <th>5</th>\n",
       "      <td>Reviewing KAZAAM and saying it's a bad movie i...</td>\n",
       "      <td>0</td>\n",
       "    </tr>\n",
       "    <tr>\n",
       "      <th>6</th>\n",
       "      <td>There is so much that can be said about this f...</td>\n",
       "      <td>1</td>\n",
       "    </tr>\n",
       "    <tr>\n",
       "      <th>7</th>\n",
       "      <td>Probable reasons why so many people on this si...</td>\n",
       "      <td>0</td>\n",
       "    </tr>\n",
       "    <tr>\n",
       "      <th>8</th>\n",
       "      <td>I watched this movie last night and already I ...</td>\n",
       "      <td>0</td>\n",
       "    </tr>\n",
       "    <tr>\n",
       "      <th>9</th>\n",
       "      <td>Dr. Seuss would sure be mad right now if he wa...</td>\n",
       "      <td>0</td>\n",
       "    </tr>\n",
       "  </tbody>\n",
       "</table>\n",
       "</div>"
      ],
      "text/plain": [
       "                                              review  label\n",
       "0  Composed, elegant Carol (marvelously played by...      1\n",
       "1  How could I best express my feelings about thi...      0\n",
       "2  I saw this movie twice. I can't believe Pintil...      0\n",
       "3  I first saw this film when i was about 13. It ...      1\n",
       "4  This review may contain some SPOILERS.<br /><b...      0\n",
       "5  Reviewing KAZAAM and saying it's a bad movie i...      0\n",
       "6  There is so much that can be said about this f...      1\n",
       "7  Probable reasons why so many people on this si...      0\n",
       "8  I watched this movie last night and already I ...      0\n",
       "9  Dr. Seuss would sure be mad right now if he wa...      0"
      ]
     },
     "execution_count": 3,
     "metadata": {
      "tags": []
     },
     "output_type": "execute_result"
    }
   ],
   "source": [
    "file_raw = pd.read_csv('raw_dataset.csv').sample(frac=1, random_state=4).reset_index(drop=True)\n",
    "file_raw.head(10)"
   ]
  },
  {
   "cell_type": "markdown",
   "metadata": {
    "colab_type": "text",
    "id": "oJcCAKT5laYQ"
   },
   "source": [
    "It is clear, that during gathering phase of the dataset, some artifacts from the website were also gathered (such as sign '\\<br \\\\>'). Such artifacts should be removed later on, to ensure that model trained on such data trains well, and don't use them as features. "
   ]
  },
  {
   "cell_type": "markdown",
   "metadata": {
    "colab_type": "text",
    "id": "RAFIbm3jKm1P"
   },
   "source": [
    "First review was labeled with 1, which means that it was positive. Full review in this observation looked like this:"
   ]
  },
  {
   "cell_type": "code",
   "execution_count": null,
   "metadata": {
    "colab": {
     "base_uri": "https://localhost:8080/",
     "height": 53
    },
    "colab_type": "code",
    "id": "Xjrvsi23KxAS",
    "outputId": "9f608142-56f3-4e8e-a175-c6be2c0f385b"
   },
   "outputs": [
    {
     "data": {
      "text/plain": [
       "\"Composed, elegant Carol (marvelously played by the beautiful Rebecca Brooke), her nice husband Eddie (likable David Houseman), Carol's wacky, constantly eating best gal pal Anna (delightfully essayed with infectious comic zeal by the adorable Chris Jordan), and Anna's hunky, amorous husband Pete (a typically fine Eric Edwards) are a quartet of liberated swingers who enjoy having frequent group sex with each other. Their usual routine gets disrupted when Carol's lonely, repressed, but still alluring widow mother Jennifer (a superbly moving performance by the lovely Jennifer Welles) drops by for a visit. Pretty soon Jennifer loosens up and becomes a willing participant in the swingers' blithely pleasurable and uninhibited carnal lifestyle, with everyone except Carol eager to seduce her. Writer/director Joe Sarno concocts a sharp, engrossing and perceptive examination of suburban angst and the limitations of the whole wild'n'easy 70's sexual revolution; Sarno turns traditional middle class mores on their heads and further spices things up with a bold and provocative mother/daughter incest subplot. Moreover, Sarno elicits uniformly first-rate acting from the bang-up cast: Welles and Brooke are both exceptional, with excellent support from Edwards, Jordan, Houseman, Arlana Blue as flaky New Age sex therapist Shandara, and Erica Eaton as saucy neighbor Mrs. Fields. Better still, all the women are extremely hot and enticing; Welles in particular seriously steams up the screen with her exquisitely voluptuous figure and smoldering erotic presence. The sex scenes are really sizzling and fairly explicit, but never raunchy or tedious. Stephen Colwell's bright, polished cinematography and Jack Justis' bouncy, melodic acoustic folk score are both on the money solid and effective. Recommended viewing for Sarno fans.\""
      ]
     },
     "execution_count": 4,
     "metadata": {
      "tags": []
     },
     "output_type": "execute_result"
    }
   ],
   "source": [
    "file_raw.review[0]"
   ]
  },
  {
   "cell_type": "markdown",
   "metadata": {
    "colab_type": "text",
    "id": "cB7bdcVQK8DD"
   },
   "source": [
    "Cell below presents amount of classes of response variable in given dataset."
   ]
  },
  {
   "cell_type": "code",
   "execution_count": null,
   "metadata": {
    "colab": {
     "base_uri": "https://localhost:8080/",
     "height": 66
    },
    "colab_type": "code",
    "id": "rFLEXAdbsoUY",
    "outputId": "28ea1c8a-923a-4e6f-984f-1d8f3290d3d5"
   },
   "outputs": [
    {
     "data": {
      "text/plain": [
       "1    0.5\n",
       "0    0.5\n",
       "Name: label, dtype: float64"
      ]
     },
     "execution_count": 5,
     "metadata": {
      "tags": []
     },
     "output_type": "execute_result"
    }
   ],
   "source": [
    "file_raw.label.value_counts()/len(file_raw)"
   ]
  },
  {
   "cell_type": "markdown",
   "metadata": {
    "colab_type": "text",
    "id": "ZbP3hlrdL3oW"
   },
   "source": [
    "The dataset is ideally balanced, with 12500 observations of class 1, and 12500 observations of class 0."
   ]
  },
  {
   "cell_type": "markdown",
   "metadata": {
    "colab_type": "text",
    "id": "-QndchWhL5TJ"
   },
   "source": [
    "### 2. Dataset cleaning\n",
    "In next step text data, which stands for only feature source in modeled problem was cleaned, to ensure that spoilt features like ones mentioned before do not go into training phase of the model. With use of cleaning function defined below, there were all non-alphanumerical signs removed from the dataset. The text was also transformed to string with use of str() function, to double-check that it will be a string, and all letters in the every sentence were lowered. Finally, all words in every sentence were stemmed with use of Snowball Stemmer from nltk package. Stemming have been used to reduce dimensionality of the transformed sentence-vectors, by reducing all words to their basic structure. Sentence vectors will be calcuated in section 3"
   ]
  },
  {
   "cell_type": "code",
   "execution_count": null,
   "metadata": {
    "colab": {},
    "colab_type": "code",
    "id": "j7FnA9TpIUiJ"
   },
   "outputs": [],
   "source": [
    "def cleaning(text, stemmer):\n",
    "    '''\n",
    "    Cleaning the dataset from non-alphanumerical signs, and stemming all words\n",
    "    '''\n",
    "    text = str(text)\n",
    "    text = text.lower()\n",
    "\n",
    "    # Clean the text\n",
    "    text = re.sub(r\"<br />\", \" \", text)\n",
    "    text = re.sub(r\"[^A-Za-z'\\!\\?]+\", \" \", text)\n",
    "    text_split = text.split()\n",
    "    return ' '.join(list(map(stemmer.stem, text_split)))\n",
    "\n",
    "stemmer = SnowballStemmer(language='english')"
   ]
  },
  {
   "cell_type": "markdown",
   "metadata": {
    "colab_type": "text",
    "id": "wXp4gGg7NufD"
   },
   "source": [
    "Cell below presents how cleaning function will change first review"
   ]
  },
  {
   "cell_type": "code",
   "execution_count": null,
   "metadata": {
    "colab": {
     "base_uri": "https://localhost:8080/",
     "height": 135
    },
    "colab_type": "code",
    "id": "_dYbvnXprLzJ",
    "outputId": "9227c1e6-f8df-46de-a670-1fd23ffbdda8"
   },
   "outputs": [
    {
     "name": "stdout",
     "output_type": "stream",
     "text": [
      "First review from the dataset before cleaning and stemming:\n",
      "Composed, elegant Carol (marvelously played by the beautiful Rebecca Brooke), her nice husband Eddie (likable David Houseman), Carol's wacky, constantly eating best gal pal Anna (delightfully essayed with infectious comic zeal by the adorable Chris Jordan), and Anna's hunky, amorous husband Pete (a typically fine Eric Edwards) are a quartet of liberated swingers who enjoy having frequent group sex with each other. Their usual routine gets disrupted when Carol's lonely, repressed, but still alluring widow mother Jennifer (a superbly moving performance by the lovely Jennifer Welles) drops by for a visit. Pretty soon Jennifer loosens up and becomes a willing participant in the swingers' blithely pleasurable and uninhibited carnal lifestyle, with everyone except Carol eager to seduce her. Writer/director Joe Sarno concocts a sharp, engrossing and perceptive examination of suburban angst and the limitations of the whole wild'n'easy 70's sexual revolution; Sarno turns traditional middle class mores on their heads and further spices things up with a bold and provocative mother/daughter incest subplot. Moreover, Sarno elicits uniformly first-rate acting from the bang-up cast: Welles and Brooke are both exceptional, with excellent support from Edwards, Jordan, Houseman, Arlana Blue as flaky New Age sex therapist Shandara, and Erica Eaton as saucy neighbor Mrs. Fields. Better still, all the women are extremely hot and enticing; Welles in particular seriously steams up the screen with her exquisitely voluptuous figure and smoldering erotic presence. The sex scenes are really sizzling and fairly explicit, but never raunchy or tedious. Stephen Colwell's bright, polished cinematography and Jack Justis' bouncy, melodic acoustic folk score are both on the money solid and effective. Recommended viewing for Sarno fans.\n",
      "\n",
      "\n",
      "First review from the dataset after cleaning and stemming:\n",
      "compos eleg carol marvel play by the beauti rebecca brook her nice husband eddi likabl david houseman carol wacki constant eat best gal pal anna delight essay with infecti comic zeal by the ador chris jordan and anna hunki amor husband pete a typic fine eric edward are a quartet of liber swinger who enjoy have frequent group sex with each other their usual routin get disrupt when carol lone repress but still allur widow mother jennif a superbl move perform by the love jennif well drop by for a visit pretti soon jennif loosen up and becom a will particip in the swinger blith pleasur and uninhibit carnal lifestyl with everyon except carol eager to seduc her writer director joe sarno concoct a sharp engross and percept examin of suburban angst and the limit of the whole wild'n'easi 's sexual revolut sarno turn tradit middl class more on their head and further spice thing up with a bold and provoc mother daughter incest subplot moreov sarno elicit uniform first rate act from the bang up cast well and brook are both except with excel support from edward jordan houseman arlana blue as flaki new age sex therapist shandara and erica eaton as sauci neighbor mrs field better still all the women are extrem hot and entic well in particular serious steam up the screen with her exquisit voluptu figur and smolder erot presenc the sex scene are realli sizzl and fair explicit but never raunchi or tedious stephen colwel bright polish cinematographi and jack justi bounci melod acoust folk score are both on the money solid and effect recommend view for sarno fan\n"
     ]
    }
   ],
   "source": [
    "print(\"First review from the dataset before cleaning and stemming:\")\n",
    "print(file_raw.head(1).review[0])\n",
    "print(\"\\n\\nFirst review from the dataset after cleaning and stemming:\")\n",
    "print(file_raw.head(1).review.apply(lambda x: cleaning(x, stemmer))[0])"
   ]
  },
  {
   "cell_type": "markdown",
   "metadata": {
    "colab_type": "text",
    "id": "7tYDXhvNOCDL"
   },
   "source": [
    "<b> Cleaning all sentences"
   ]
  },
  {
   "cell_type": "code",
   "execution_count": null,
   "metadata": {
    "colab": {
     "base_uri": "https://localhost:8080/",
     "height": 33
    },
    "colab_type": "code",
    "id": "gCIujaceJK2h",
    "outputId": "2a0e6f47-6553-46b3-93a3-1adebd5cd1a1"
   },
   "outputs": [
    {
     "name": "stdout",
     "output_type": "stream",
     "text": [
      "Time to clean everything: 0.89 mins\n"
     ]
    }
   ],
   "source": [
    "t = time()\n",
    "file_cleaned = file_raw.copy()\n",
    "file_cleaned.review = file_cleaned.review.apply(lambda x: ' '.join(list(map(stemmer.stem, x.split()))))\n",
    "print('Time to clean everything: {} mins'.format(round((time() - t) / 60, 2)))"
   ]
  },
  {
   "cell_type": "markdown",
   "metadata": {
    "colab_type": "text",
    "id": "FhsJOjLwOI32"
   },
   "source": [
    "### 3. Transforming text data into sparse vector feature space\n",
    "To obtain features for the model from cleaned sentences, there was technique called term frequency-inverse document frequency used. With it's use, every sentence have been transformed into n-dimensional vector, were n was the size of vocabulary created based on given dataset (which was equal to all unique words present in given dataset, in case of splitting the next into separate words). On every position of this vector there was either 0 or calculated tf-idf score, depending of wether corresponding word to such position was present in the sentence. Furthermore, every tf-idf score was calculated based on term frequency of given word, multiplied by it's inverse document frequency score. With such technique, all unique words for given sentence achieved higher scores than words common for whole corpus. Formula below presents how score for every word in every sentence was calculated.\n",
    "\n",
    "$tfidf(t) = tf(t, d) \\cdot log({n(t) \\over df(t)}) + 1$,\n",
    "\n",
    "where:\n",
    "\n",
    "tf(t, d) - term frequency of given word t in document (sentence) d\n",
    "\n",
    "n - total number of documents in given dataset\n",
    "\n",
    "df(t) - number of documents with word t"
   ]
  },
  {
   "cell_type": "code",
   "execution_count": null,
   "metadata": {
    "colab": {},
    "colab_type": "code",
    "id": "iimjvNNss8Ci"
   },
   "outputs": [],
   "source": [
    "X = file_cleaned.copy().review\n",
    "y = file_cleaned.copy().label\n",
    "\n",
    "corpus = X\n",
    "vectorizer = TfidfVectorizer()\n",
    "X = vectorizer.fit_transform(corpus)"
   ]
  },
  {
   "cell_type": "markdown",
   "metadata": {
    "colab_type": "text",
    "id": "HcVwHmzLRMi3"
   },
   "source": [
    "After the transformation, X vector of sentences was transformed from one dimensional  vector with 25000 sentences, to 25000x71029 matrix with 71029 features. Every row in such matrix represented one sentence, and every column represented feature with score that indicated if corresponding word was present in the sentence, and how unique it was for it."
   ]
  },
  {
   "cell_type": "code",
   "execution_count": null,
   "metadata": {
    "colab": {
     "base_uri": "https://localhost:8080/",
     "height": 33
    },
    "colab_type": "code",
    "id": "8B_mNE5OQt4V",
    "outputId": "d8b9f349-db1e-484d-cdc2-d38e90628b71"
   },
   "outputs": [
    {
     "data": {
      "text/plain": [
       "((25000,), (25000, 71029))"
      ]
     },
     "execution_count": 10,
     "metadata": {
      "tags": []
     },
     "output_type": "execute_result"
    }
   ],
   "source": [
    "file_cleaned.copy().review.shape, X.shape"
   ]
  },
  {
   "cell_type": "markdown",
   "metadata": {
    "colab_type": "text",
    "id": "8E78jd8hRKzm"
   },
   "source": [
    "### 4. Training Linear Regression and Decision Tree models\n",
    "Finally, there were two models trained on task of classifying, whether sentiment of given review was positive or negative based on obtained feature vectors. Chosen models included Logistic Regression, and Decision Tree with entropy as split criterion. Before training the model, dataset was split into training and test datasets. Random seed of such split was set, to ensure that all further models will be evaluated on the same dataset. Accuracy was chosen as metrics for choosing the best model, as the classes in the dataset were balanced."
   ]
  },
  {
   "cell_type": "markdown",
   "metadata": {
    "colab_type": "text",
    "id": "5uESexgEWBcA"
   },
   "source": [
    "<b> Logistic Regression model"
   ]
  },
  {
   "cell_type": "code",
   "execution_count": null,
   "metadata": {
    "colab": {
     "base_uri": "https://localhost:8080/",
     "height": 33
    },
    "colab_type": "code",
    "id": "y4vraSQZQtOV",
    "outputId": "61f9f8ee-e9d4-40d8-9bc8-d1e86cbf19f7"
   },
   "outputs": [
    {
     "data": {
      "text/plain": [
       "(0.9268571428571428, 0.8798666666666667)"
      ]
     },
     "execution_count": 11,
     "metadata": {
      "tags": []
     },
     "output_type": "execute_result"
    }
   ],
   "source": [
    "X_train, X_test, y_train, y_test = train_test_split(X, y, train_size = 0.7, stratify=y, random_state=44)\n",
    "\n",
    "model1 = LogisticRegression(solver='lbfgs', max_iter=1000)\n",
    "model1.fit(X_train, y_train)\n",
    "model1.score(X_train, y_train), model1.score(X_test,y_test)"
   ]
  },
  {
   "cell_type": "markdown",
   "metadata": {
    "colab_type": "text",
    "id": "Tp287c0VWDAv"
   },
   "source": [
    "<b> Decision Tree model"
   ]
  },
  {
   "cell_type": "code",
   "execution_count": null,
   "metadata": {
    "colab": {
     "base_uri": "https://localhost:8080/",
     "height": 33
    },
    "colab_type": "code",
    "id": "DEZ_fFXp8C3p",
    "outputId": "2146338b-cdfd-45d1-c80d-1f77af7406d2"
   },
   "outputs": [
    {
     "data": {
      "text/plain": [
       "(0.7629142857142858, 0.7206666666666667)"
      ]
     },
     "execution_count": 12,
     "metadata": {
      "tags": []
     },
     "output_type": "execute_result"
    }
   ],
   "source": [
    "model2 = DecisionTreeClassifier(min_samples_leaf=100, criterion='entropy')\n",
    "model2.fit(X_train, y_train)\n",
    "model2.score(X_train, y_train), model2.score(X_test,y_test)"
   ]
  },
  {
   "cell_type": "markdown",
   "metadata": {
    "colab_type": "text",
    "id": "YLlrocXOSkXE"
   },
   "source": [
    "Better in terms of accuracy was Logistic Regression model. One of reasons might be, that for sparse features, which have lots of dimensions, and most of their values are zeroes, it might be hard for a decision tree to find optimal split, and approximate such dataset with well defined split points."
   ]
  },
  {
   "cell_type": "markdown",
   "metadata": {
    "colab_type": "text",
    "id": "bHZaXvI2ELzO"
   },
   "source": [
    "### 5. Additional Features Calculation\n",
    "In next steps, there were additional features generated, also based on tf-idf technique, to check if they could improve model's performances. Apart from the features created in previous step, there were new vectors generated, with sparse vectors calculated for ngrams of characters (between 2 and 5 letters), for every word. This means, that every word was split into minimally chunks of 2 letters, and maximum 5 letters, so word 'beautiful' could have been split into tokens 'beauti' and 'ful'.\n"
   ]
  },
  {
   "cell_type": "code",
   "execution_count": null,
   "metadata": {
    "colab": {},
    "colab_type": "code",
    "id": "ix3PooNvxXP4"
   },
   "outputs": [],
   "source": [
    "X = file_cleaned.copy().review\n",
    "y = file_cleaned.copy().label\n",
    "\n",
    "corpus = X.copy()\n",
    "vectorizer = TfidfVectorizer()\n",
    "\n",
    "vectorizer2 = TfidfVectorizer(analyzer='char',\n",
    "                              ngram_range={2,5},\n",
    "                              max_features=3000)\n",
    "X_word = vectorizer.fit_transform(corpus)\n",
    "X_char = vectorizer2.fit_transform(corpus)\n",
    "\n",
    "X = hstack([X_word, X_char])"
   ]
  },
  {
   "cell_type": "markdown",
   "metadata": {
    "colab_type": "text",
    "id": "oA3TJEX7Uowh"
   },
   "source": [
    "After such transformations there were new 3000 features created, indicating if given sentence contained particular n-grams of characters, with their calculated tf-idf scores. Presumably, it could give additional information to the model and improve it's performance, though on the other hand it could also worsen it's performance, if the features turn out not to be informative."
   ]
  },
  {
   "cell_type": "code",
   "execution_count": null,
   "metadata": {
    "colab": {
     "base_uri": "https://localhost:8080/",
     "height": 33
    },
    "colab_type": "code",
    "id": "A9YDwhK8UI67",
    "outputId": "e0f93456-c6ae-4627-d494-225421dd4578"
   },
   "outputs": [
    {
     "data": {
      "text/plain": [
       "((25000,), (25000, 71029), (25000, 3000), (25000, 74029))"
      ]
     },
     "execution_count": 14,
     "metadata": {
      "tags": []
     },
     "output_type": "execute_result"
    }
   ],
   "source": [
    "file_cleaned.copy().review.shape, X_word.shape, X_char.shape, X.shape"
   ]
  },
  {
   "cell_type": "markdown",
   "metadata": {
    "colab_type": "text",
    "id": "OaGj6D-3VLxI"
   },
   "source": [
    "# 6. Retraining the models\n",
    "After creation of additional features, both model's from part 4 of the project were retrained, to see how new features would affect their performance. "
   ]
  },
  {
   "cell_type": "markdown",
   "metadata": {
    "colab_type": "text",
    "id": "gtZJRqIEET53"
   },
   "source": [
    "<b> Logistic Regression model"
   ]
  },
  {
   "cell_type": "code",
   "execution_count": null,
   "metadata": {
    "colab": {
     "base_uri": "https://localhost:8080/",
     "height": 33
    },
    "colab_type": "code",
    "id": "GKpYX76oER_H",
    "outputId": "3b691995-65d2-405d-db8d-f016f8d9f834"
   },
   "outputs": [
    {
     "data": {
      "text/plain": [
       "(0.9275428571428571, 0.8817333333333334)"
      ]
     },
     "execution_count": 15,
     "metadata": {
      "tags": []
     },
     "output_type": "execute_result"
    }
   ],
   "source": [
    "X_train2, X_test2, y_train2, y_test2 = train_test_split(X, y, train_size = 0.7, stratify=y, random_state=44)\n",
    "\n",
    "model3 = LogisticRegression(solver='lbfgs', max_iter=1000)\n",
    "model3.fit(X_train2, y_train2)\n",
    "model3.score(X_train2, y_train2), model3.score(X_test2,y_test2)"
   ]
  },
  {
   "cell_type": "markdown",
   "metadata": {
    "colab_type": "text",
    "id": "YXTQcm3aEWuN"
   },
   "source": [
    "<b> Decision Tree model"
   ]
  },
  {
   "cell_type": "code",
   "execution_count": null,
   "metadata": {
    "colab": {
     "base_uri": "https://localhost:8080/",
     "height": 33
    },
    "colab_type": "code",
    "id": "ov7iJ1R3xXNn",
    "outputId": "44214e87-7696-434b-a04f-68498253c273"
   },
   "outputs": [
    {
     "data": {
      "text/plain": [
       "(0.7629142857142858, 0.7206666666666667)"
      ]
     },
     "execution_count": 16,
     "metadata": {
      "tags": []
     },
     "output_type": "execute_result"
    }
   ],
   "source": [
    "model4 = DecisionTreeClassifier(min_samples_leaf=100, criterion='entropy')\n",
    "model4.fit(X_train, y_train)\n",
    "model4.score(X_train, y_train), model4.score(X_test,y_test)"
   ]
  },
  {
   "cell_type": "markdown",
   "metadata": {
    "colab_type": "text",
    "id": "L9ffl05GWIDw"
   },
   "source": [
    "For both model's additional features improved just a bit accuracies on training dataset, but also worsened slightly accuracies on test set. It could indicate that adding such specific features to model, as presence of certain ngrams in given sentence, might cause it to overfit to training dataset. After all these steps being complete, Logistic Regression model was chosen as better performing model for given problem."
   ]
  },
  {
   "cell_type": "markdown",
   "metadata": {
    "colab_type": "text",
    "id": "FazncfT0WW8S"
   },
   "source": [
    "### 7. Further evaluation of best model\n",
    "To evaluate further the best classifier out of trained in previous steps, there was confusion matrix calculated, along with model's precision, recall, F1-score, and AUC value for each model."
   ]
  },
  {
   "cell_type": "code",
   "execution_count": null,
   "metadata": {
    "colab": {
     "base_uri": "https://localhost:8080/",
     "height": 273
    },
    "colab_type": "code",
    "id": "QWltHsoixadq",
    "outputId": "69594bf0-d8a7-4e3a-e9d3-7e4bc9533aa9"
   },
   "outputs": [
    {
     "name": "stdout",
     "output_type": "stream",
     "text": [
      "Confusion matrix\n"
     ]
    },
    {
     "data": {
      "text/html": [
       "<div>\n",
       "<style scoped>\n",
       "    .dataframe tbody tr th:only-of-type {\n",
       "        vertical-align: middle;\n",
       "    }\n",
       "\n",
       "    .dataframe tbody tr th {\n",
       "        vertical-align: top;\n",
       "    }\n",
       "\n",
       "    .dataframe thead th {\n",
       "        text-align: right;\n",
       "    }\n",
       "</style>\n",
       "<table border=\"1\" class=\"dataframe\">\n",
       "  <thead>\n",
       "    <tr style=\"text-align: right;\">\n",
       "      <th></th>\n",
       "      <th>0</th>\n",
       "      <th>1</th>\n",
       "    </tr>\n",
       "  </thead>\n",
       "  <tbody>\n",
       "    <tr>\n",
       "      <th>0</th>\n",
       "      <td>3262</td>\n",
       "      <td>413</td>\n",
       "    </tr>\n",
       "    <tr>\n",
       "      <th>1</th>\n",
       "      <td>488</td>\n",
       "      <td>3337</td>\n",
       "    </tr>\n",
       "  </tbody>\n",
       "</table>\n",
       "</div>"
      ],
      "text/plain": [
       "      0     1\n",
       "0  3262   413\n",
       "1   488  3337"
      ]
     },
     "metadata": {
      "tags": []
     },
     "output_type": "display_data"
    },
    {
     "name": "stdout",
     "output_type": "stream",
     "text": [
      "\n",
      "\n",
      "\n",
      "Scores of the model\n"
     ]
    },
    {
     "data": {
      "text/html": [
       "<div>\n",
       "<style scoped>\n",
       "    .dataframe tbody tr th:only-of-type {\n",
       "        vertical-align: middle;\n",
       "    }\n",
       "\n",
       "    .dataframe tbody tr th {\n",
       "        vertical-align: top;\n",
       "    }\n",
       "\n",
       "    .dataframe thead th {\n",
       "        text-align: right;\n",
       "    }\n",
       "</style>\n",
       "<table border=\"1\" class=\"dataframe\">\n",
       "  <thead>\n",
       "    <tr style=\"text-align: right;\">\n",
       "      <th></th>\n",
       "      <th>accuracy</th>\n",
       "      <th>precision</th>\n",
       "      <th>recall</th>\n",
       "      <th>F1</th>\n",
       "      <th>AUC</th>\n",
       "    </tr>\n",
       "  </thead>\n",
       "  <tbody>\n",
       "    <tr>\n",
       "      <th>train</th>\n",
       "      <td>0.926857</td>\n",
       "      <td>0.932686</td>\n",
       "      <td>0.921939</td>\n",
       "      <td>0.927281</td>\n",
       "      <td>0.978631</td>\n",
       "    </tr>\n",
       "    <tr>\n",
       "      <th>test</th>\n",
       "      <td>0.879867</td>\n",
       "      <td>0.889867</td>\n",
       "      <td>0.872418</td>\n",
       "      <td>0.881056</td>\n",
       "      <td>0.949662</td>\n",
       "    </tr>\n",
       "  </tbody>\n",
       "</table>\n",
       "</div>"
      ],
      "text/plain": [
       "       accuracy  precision    recall        F1       AUC\n",
       "train  0.926857   0.932686  0.921939  0.927281  0.978631\n",
       "test   0.879867   0.889867  0.872418  0.881056  0.949662"
      ]
     },
     "metadata": {
      "tags": []
     },
     "output_type": "display_data"
    }
   ],
   "source": [
    "train_predictions = model1.predict(X_train)\n",
    "train_proba = model1.predict_proba(X_train)[:,1]\n",
    "test_predictions = model1.predict(X_test)\n",
    "test_proba = model1.predict_proba(X_test)[:,1]\n",
    "\n",
    "fpr_train, tpr_train, thresholds_train = roc_curve(y_train, train_proba, pos_label=1)\n",
    "auc_train = auc(fpr_train, tpr_train)\n",
    "fpr_test, tpr_test, thresholds_test = roc_curve(y_test, test_proba, pos_label=1)\n",
    "auc_test = auc(fpr_test, tpr_test)\n",
    "\n",
    "print('Confusion matrix')\n",
    "display(pd.DataFrame(confusion_matrix(test_predictions, y_test)))\n",
    "print('\\n\\n\\nScores of the model')\n",
    "display(pd.DataFrame(zip([model1.score(X_train, y_train), model1.score(X_test, y_test)],\n",
    "                [precision_score(train_predictions, y_train), precision_score(test_predictions, y_test)],\n",
    "                [recall_score(train_predictions, y_train), recall_score(test_predictions, y_test)],\n",
    "                [f1_score(train_predictions, y_train), f1_score(test_predictions, y_test)],\n",
    "                [auc_train, auc_test]), \n",
    "             columns=['accuracy', 'precision', 'recall', 'F1', 'AUC'],\n",
    "             index=['train', 'test']))"
   ]
  },
  {
   "cell_type": "markdown",
   "metadata": {
    "colab_type": "text",
    "id": "pZ8JO-fYYfQs"
   },
   "source": [
    "The model discriminated both classes with similar accuracy, and all given metrics were relatively high. Precision equal to 0.89 on test dataset indicated, that the model discriminated between negative and positive classes well. Recall equal to 0.87 indicated that the model classified 87% of all positive classes in the test dataset correctly. AUC of given model was also very high both on training and test datasets, which indicates that it distinguished between positive and negative classes very well. All metrics were slightly lower for test dataset, which might indicate little overfitting to the training dataset, but the difference was acceptable."
   ]
  },
  {
   "cell_type": "code",
   "execution_count": null,
   "metadata": {
    "colab": {
     "base_uri": "https://localhost:8080/",
     "height": 518
    },
    "colab_type": "code",
    "id": "E2E_mqFQbymo",
    "outputId": "fe694ba7-d9b4-4602-ce6c-3cf1f0995baf"
   },
   "outputs": [
    {
     "data": {
      "text/plain": [
       "<matplotlib.legend.Legend at 0x7f56212290f0>"
      ]
     },
     "execution_count": 18,
     "metadata": {
      "tags": []
     },
     "output_type": "execute_result"
    },
    {
     "data": {
      "image/png": "[encoded data removed]",
      "text/plain": [
       "<Figure size 864x576 with 1 Axes>"
      ]
     },
     "metadata": {
      "tags": []
     },
     "output_type": "display_data"
    }
   ],
   "source": [
    "plt.figure(figsize=(12,8))\n",
    "plt.plot(fpr_train, tpr_train, label='train')\n",
    "plt.plot(fpr_test, tpr_test, label='test')\n",
    "plt.xlabel('true positive rate', fontsize=16)\n",
    "plt.ylabel('false positive rate', fontsize=16)\n",
    "plt.legend()"
   ]
  },
  {
   "cell_type": "markdown",
   "metadata": {
    "colab_type": "text",
    "id": "lvZOjT9KeGpZ"
   },
   "source": [
    "### 8. Summary\n",
    "In this project, there has been sentiment analysis performed on IMDB Movie reviews dataset. One of the main challenges in modeling textual data is the fact, that it is unstructured, which means that the information from this data needs to be extracted, in order to allow any model to learn from it. First step of working on textual data is normalizing it, which includes cleaning all unnessecary, non textual symbols, and reducing all words to more basic structure. In this project, for reducing words to their basic structure there was stemming technique used. After these steps being complete, it was nessecary to encode numerically all sentences. One of common methods of representing numerically textual data, is the technique of vectorizing it with tf-idf transformation. Essentially, it encodes all sentences into n-dimensional feature space, based on the corpus of all sentences from the dataset, that is fed into such method. Further, this technique allowed to create useful features for trained models, which included Logistic Regression model, and Decision Tree model. Overall there were 4 classifiers trained, also on additional n-gram features, which turned out not to improve model's performance. Best in terms of accuracy on given dataset turned out to be Logistic Regression model, trained on tf-idf vectors based on words. Extracted features allowed to train it to classify 92% of reviews correctly in training dataset, and almost 88% of reviews correctly in test dataset. To evaluate the best model further, there were additional metrics calculated, and ROC curve visualized. Based on their values, and on AUC of the ROC curve plot it is visible, that the model performed well both on positive reviews, and negative ones, and both on test and traning datasets. It is important to mention, that analyzed dataset contained perfectly balanced classes, which could be also one of the reasons it learned that well."
   ]
  }
 ],
 "metadata": {
  "accelerator": "GPU",
  "colab": {
   "collapsed_sections": [],
   "machine_shape": "hm",
   "name": "projekt_BigData.ipynb",
   "provenance": [],
   "toc_visible": true
  },
  "kernelspec": {
   "display_name": "Python 3",
   "language": "python",
   "name": "python3"
  },
  "language_info": {
   "codemirror_mode": {
    "name": "ipython",
    "version": 3
   },
   "file_extension": ".py",
   "mimetype": "text/x-python",
   "name": "python",
   "nbconvert_exporter": "python",
   "pygments_lexer": "ipython3",
   "version": "3.7.4"
  }
 },
 "nbformat": 4,
 "nbformat_minor": 4
}
